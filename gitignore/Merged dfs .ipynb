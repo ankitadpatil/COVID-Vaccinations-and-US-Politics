{
 "cells": [
  {
   "cell_type": "code",
   "execution_count": 12,
   "id": "d7c8b838",
   "metadata": {},
   "outputs": [],
   "source": [
    "import pandas as pd\n",
    "import numpy as np"
   ]
  },
  {
   "cell_type": "code",
   "execution_count": 15,
   "id": "f10235f7",
   "metadata": {},
   "outputs": [],
   "source": [
    "checkpoint = pd.read_csv('./clean_data/checkpoint_cols.csv')\n",
    "svi = pd.read_csv('./clean_data/svi_clean.csv')\n",
    "vaccine = pd.read_csv('./clean_data/vaccine_hesitancy.csv')\n",
    "election = pd.read_csv('./clean_data/final_clean_vote_data.csv')\n",
    "census = pd.read_csv('./clean_data/census_data.csv')"
   ]
  },
  {
   "cell_type": "code",
   "execution_count": 16,
   "id": "f41badf2",
   "metadata": {},
   "outputs": [
    {
     "data": {
      "text/html": [
       "<div>\n",
       "<style scoped>\n",
       "    .dataframe tbody tr th:only-of-type {\n",
       "        vertical-align: middle;\n",
       "    }\n",
       "\n",
       "    .dataframe tbody tr th {\n",
       "        vertical-align: top;\n",
       "    }\n",
       "\n",
       "    .dataframe thead th {\n",
       "        text-align: right;\n",
       "    }\n",
       "</style>\n",
       "<table border=\"1\" class=\"dataframe\">\n",
       "  <thead>\n",
       "    <tr style=\"text-align: right;\">\n",
       "      <th></th>\n",
       "      <th>state</th>\n",
       "      <th>candidate_won</th>\n",
       "      <th>party</th>\n",
       "      <th>winner_votes</th>\n",
       "      <th>total_votes</th>\n",
       "      <th>pct_trump</th>\n",
       "      <th>pct_biden</th>\n",
       "    </tr>\n",
       "  </thead>\n",
       "  <tbody>\n",
       "    <tr>\n",
       "      <th>0</th>\n",
       "      <td>DE</td>\n",
       "      <td>Joe Biden</td>\n",
       "      <td>DEM</td>\n",
       "      <td>44552</td>\n",
       "      <td>87025</td>\n",
       "      <td>0.4880</td>\n",
       "      <td>0.5120</td>\n",
       "    </tr>\n",
       "    <tr>\n",
       "      <th>1</th>\n",
       "      <td>DE</td>\n",
       "      <td>Joe Biden</td>\n",
       "      <td>DEM</td>\n",
       "      <td>195034</td>\n",
       "      <td>287633</td>\n",
       "      <td>0.3220</td>\n",
       "      <td>0.6780</td>\n",
       "    </tr>\n",
       "    <tr>\n",
       "      <th>2</th>\n",
       "      <td>DC</td>\n",
       "      <td>Joe Biden</td>\n",
       "      <td>DEM</td>\n",
       "      <td>39041</td>\n",
       "      <td>41681</td>\n",
       "      <td>0.0630</td>\n",
       "      <td>0.9370</td>\n",
       "    </tr>\n",
       "    <tr>\n",
       "      <th>3</th>\n",
       "      <td>FL</td>\n",
       "      <td>Joe Biden</td>\n",
       "      <td>DEM</td>\n",
       "      <td>89704</td>\n",
       "      <td>142604</td>\n",
       "      <td>0.3710</td>\n",
       "      <td>0.6290</td>\n",
       "    </tr>\n",
       "    <tr>\n",
       "      <th>4</th>\n",
       "      <td>FL</td>\n",
       "      <td>Joe Biden</td>\n",
       "      <td>DEM</td>\n",
       "      <td>618752</td>\n",
       "      <td>957672</td>\n",
       "      <td>0.3540</td>\n",
       "      <td>0.6460</td>\n",
       "    </tr>\n",
       "    <tr>\n",
       "      <th>...</th>\n",
       "      <td>...</td>\n",
       "      <td>...</td>\n",
       "      <td>...</td>\n",
       "      <td>...</td>\n",
       "      <td>...</td>\n",
       "      <td>...</td>\n",
       "      <td>...</td>\n",
       "    </tr>\n",
       "    <tr>\n",
       "      <th>3136</th>\n",
       "      <td>MA</td>\n",
       "      <td>Joe Biden</td>\n",
       "      <td>DEM</td>\n",
       "      <td>9914</td>\n",
       "      <td>12873</td>\n",
       "      <td>0.2044</td>\n",
       "      <td>0.7704</td>\n",
       "    </tr>\n",
       "    <tr>\n",
       "      <th>3137</th>\n",
       "      <td>MA</td>\n",
       "      <td>Joe Biden</td>\n",
       "      <td>DEM</td>\n",
       "      <td>63362</td>\n",
       "      <td>88332</td>\n",
       "      <td>0.2522</td>\n",
       "      <td>0.7173</td>\n",
       "    </tr>\n",
       "    <tr>\n",
       "      <th>3138</th>\n",
       "      <td>MA</td>\n",
       "      <td>Joe Biden</td>\n",
       "      <td>DEM</td>\n",
       "      <td>617196</td>\n",
       "      <td>869347</td>\n",
       "      <td>0.2611</td>\n",
       "      <td>0.7100</td>\n",
       "    </tr>\n",
       "    <tr>\n",
       "      <th>3139</th>\n",
       "      <td>MA</td>\n",
       "      <td>Joe Biden</td>\n",
       "      <td>DEM</td>\n",
       "      <td>270522</td>\n",
       "      <td>337240</td>\n",
       "      <td>0.1738</td>\n",
       "      <td>0.8022</td>\n",
       "    </tr>\n",
       "    <tr>\n",
       "      <th>3140</th>\n",
       "      <td>CT</td>\n",
       "      <td>Joe Biden</td>\n",
       "      <td>DEM</td>\n",
       "      <td>56848</td>\n",
       "      <td>99203</td>\n",
       "      <td>0.4099</td>\n",
       "      <td>0.5730</td>\n",
       "    </tr>\n",
       "  </tbody>\n",
       "</table>\n",
       "<p>3141 rows × 7 columns</p>\n",
       "</div>"
      ],
      "text/plain": [
       "     state candidate_won party  winner_votes  total_votes  pct_trump  \\\n",
       "0       DE     Joe Biden   DEM         44552        87025     0.4880   \n",
       "1       DE     Joe Biden   DEM        195034       287633     0.3220   \n",
       "2       DC     Joe Biden   DEM         39041        41681     0.0630   \n",
       "3       FL     Joe Biden   DEM         89704       142604     0.3710   \n",
       "4       FL     Joe Biden   DEM        618752       957672     0.3540   \n",
       "...    ...           ...   ...           ...          ...        ...   \n",
       "3136    MA     Joe Biden   DEM          9914        12873     0.2044   \n",
       "3137    MA     Joe Biden   DEM         63362        88332     0.2522   \n",
       "3138    MA     Joe Biden   DEM        617196       869347     0.2611   \n",
       "3139    MA     Joe Biden   DEM        270522       337240     0.1738   \n",
       "3140    CT     Joe Biden   DEM         56848        99203     0.4099   \n",
       "\n",
       "      pct_biden  \n",
       "0        0.5120  \n",
       "1        0.6780  \n",
       "2        0.9370  \n",
       "3        0.6290  \n",
       "4        0.6460  \n",
       "...         ...  \n",
       "3136     0.7704  \n",
       "3137     0.7173  \n",
       "3138     0.7100  \n",
       "3139     0.8022  \n",
       "3140     0.5730  \n",
       "\n",
       "[3141 rows x 7 columns]"
      ]
     },
     "execution_count": 16,
     "metadata": {},
     "output_type": "execute_result"
    }
   ],
   "source": [
    "election"
   ]
  },
  {
   "cell_type": "code",
   "execution_count": 46,
   "id": "1250e9c4",
   "metadata": {},
   "outputs": [],
   "source": [
    "#census.isnull().sum()\n",
    "#went through columns with nans; the mismatched indices are not due to nans\n",
    "#census[census['Census2019_18to64Pop'].isnull()]"
   ]
  },
  {
   "cell_type": "code",
   "execution_count": 47,
   "id": "b83ae044",
   "metadata": {},
   "outputs": [],
   "source": [
    "#rename vaccine and election to match County_State columns\n",
    "vaccine.rename(columns={'county_state':'County_State'}, inplace=True)\n",
    "election.rename(columns={'county_state':'County_State'}, inplace=True)"
   ]
  },
  {
   "cell_type": "code",
   "execution_count": 48,
   "id": "e74bda50",
   "metadata": {},
   "outputs": [],
   "source": [
    "svi.rename(columns={'index':'County_State'}, inplace=True)"
   ]
  },
  {
   "cell_type": "code",
   "execution_count": 49,
   "id": "d199b4b5",
   "metadata": {
    "scrolled": true
   },
   "outputs": [
    {
     "name": "stdout",
     "output_type": "stream",
     "text": [
      "aleutians east borough_ak\n",
      "aleutians east borough_ak\n",
      "aleutians east borough_ak\n",
      "True\n",
      "True\n"
     ]
    }
   ],
   "source": [
    "print(census[census['County_State']=='aleutians east borough_ak'].loc[649,'County_State'])\n",
    "print(vaccine[vaccine['County_State']=='aleutians east borough_ak'].loc[32,'County_State'])\n",
    "print(checkpoint[checkpoint['County_State']=='aleutians east borough_ak'].loc[649,'County_State'])\n",
    "\n",
    "print((census[census['County_State']=='aleutians east borough_ak'].loc[649,'County_State']) == (vaccine[vaccine['County_State']=='aleutians east borough_ak'].loc[32,'County_State']))\n",
    "print((vaccine[vaccine['County_State']=='aleutians east borough_ak'].loc[32,'County_State']) == (checkpoint[checkpoint['County_State']=='aleutians east borough_ak'].loc[649,'County_State']))"
   ]
  },
  {
   "cell_type": "code",
   "execution_count": 50,
   "id": "ae60d189",
   "metadata": {},
   "outputs": [],
   "source": [
    "#add new county columns to double check they merge correctly. call them all diff name\n",
    "checkpoint['county_checkpoint']=checkpoint['County_State']\n",
    "svi['county_svi']=svi['County_State']\n",
    "vaccine['county_vaccine']=vaccine['County_State']\n",
    "election['county_election']=election['County_State']\n",
    "census['county_census']=census['County_State']"
   ]
  },
  {
   "cell_type": "code",
   "execution_count": 51,
   "id": "5e9e3396",
   "metadata": {},
   "outputs": [],
   "source": [
    "#create list of each df's county_state's\n",
    "checkpoint_county_list = list(checkpoint['County_State'])\n",
    "svi_county_list = list(svi['County_State'])\n",
    "vaccine_county_list = list(vaccine['County_State'])\n",
    "election_county_list = list(election['County_State'])\n",
    "census_county_list = list(census['County_State'])\n",
    "\n",
    "lists = [checkpoint_county_list, svi_county_list, vaccine_county_list,\n",
    "        election_county_list, census_county_list]"
   ]
  },
  {
   "cell_type": "code",
   "execution_count": 52,
   "id": "f5e60a7b",
   "metadata": {},
   "outputs": [
    {
     "name": "stdout",
     "output_type": "stream",
     "text": [
      "checkpoint length: 3191\n",
      "svi length: 3142\n",
      "vaccine length: 3142\n",
      "election length: 4627\n",
      "census length: 3191\n"
     ]
    }
   ],
   "source": [
    "#lengths of lists\n",
    "#\n",
    "def length(lst, name):\n",
    "    print(f'{name} length: {len(lst)}')\n",
    "\n",
    "length(checkpoint_county_list, 'checkpoint')\n",
    "length(svi_county_list, 'svi')\n",
    "length(vaccine_county_list, 'vaccine')\n",
    "length(election_county_list, 'election')\n",
    "length(census_county_list, 'census')"
   ]
  },
  {
   "cell_type": "code",
   "execution_count": 53,
   "id": "6c4fc1db",
   "metadata": {},
   "outputs": [],
   "source": [
    "#print shapes\n",
    "dfs = [checkpoint,svi,vaccine,election,census]\n",
    "\n",
    "def shapes(df, dfname):\n",
    "    print(f'{dfname} shape: {df.shape}')\n",
    "    \n",
    "def total_shape(df_list):\n",
    "    count = 0\n",
    "    for i in df_list:\n",
    "        count += i.shape[1]\n",
    "    print(f'total columns={count}')"
   ]
  },
  {
   "cell_type": "code",
   "execution_count": 54,
   "id": "5281cf9f",
   "metadata": {},
   "outputs": [
    {
     "name": "stdout",
     "output_type": "stream",
     "text": [
      "checkpoint shape: (3191, 14)\n",
      "svi shape: (3142, 15)\n",
      "vaccine shape: (3142, 6)\n",
      "election shape: (4627, 10)\n",
      "census shape: (3191, 9)\n",
      "total columns=54\n"
     ]
    }
   ],
   "source": [
    "shapes(checkpoint,'checkpoint')\n",
    "shapes(svi, 'svi')\n",
    "shapes(vaccine, 'vaccine')\n",
    "shapes(election, 'election')\n",
    "shapes(census, 'census')\n",
    "total_shape(dfs)"
   ]
  },
  {
   "cell_type": "code",
   "execution_count": 55,
   "id": "faee74e8",
   "metadata": {},
   "outputs": [],
   "source": [
    "#set indices to 'County_State'\n",
    "#checked and they're all indexed correctly\n",
    "for i in dfs:\n",
    "    i.set_index('County_State', inplace=True)"
   ]
  },
  {
   "cell_type": "code",
   "execution_count": 56,
   "id": "74aed3c9",
   "metadata": {},
   "outputs": [],
   "source": [
    "#merge: checkpoint,vaccine,election,census\n",
    "#no svi\n",
    "df1_nosvi = pd.merge(checkpoint,census, left_index=True, right_index=True)\n",
    "df2_nosvi = pd.merge(vaccine,election, left_index=True, right_index=True)\n",
    "df_nosvi = pd.merge(df1_nosvi,df2_nosvi, left_index=True, right_index=True)"
   ]
  },
  {
   "cell_type": "code",
   "execution_count": 57,
   "id": "9fa2ceeb",
   "metadata": {},
   "outputs": [],
   "source": [
    "#merge: checkpoint,svi,vaccine,election,census\n",
    "df1 = pd.merge(checkpoint,svi, left_index=True, right_index=True)\n",
    "df2 = pd.merge(vaccine,election, left_index=True, right_index=True)\n",
    "df3 = pd.merge(census,df1, left_index=True, right_index=True)\n",
    "df = pd.merge(df2,df3, left_index=True, right_index=True)"
   ]
  },
  {
   "cell_type": "code",
   "execution_count": 58,
   "id": "00c549ef",
   "metadata": {},
   "outputs": [
    {
     "name": "stdout",
     "output_type": "stream",
     "text": [
      "df_nosvi shape: (3088, 35)\n",
      "df_nosvi shape: (3088, 49)\n"
     ]
    }
   ],
   "source": [
    "print(f'df_nosvi shape: {df_nosvi.shape}')\n",
    "print(f'df_nosvi shape: {df.shape}')"
   ]
  },
  {
   "cell_type": "code",
   "execution_count": 59,
   "id": "3cf59922",
   "metadata": {},
   "outputs": [],
   "source": [
    "#df.to_csv('./clean_data/merged.csv')\n",
    "#df_nosvi.to_csv('./clean_data/merged_nosvi.csv')"
   ]
  },
  {
   "cell_type": "code",
   "execution_count": 17,
   "id": "2ae4e87d",
   "metadata": {
    "scrolled": true
   },
   "outputs": [
    {
     "name": "stdout",
     "output_type": "stream",
     "text": [
      "1.0\n",
      "1.0\n",
      "1.0\n",
      "1.0\n"
     ]
    }
   ],
   "source": [
    "#make sure indices worked by checking with the extra county_state columns I added to the original dataframes\n",
    "df[['county_vaccine','county_election', 'county_checkpoint','county_svi','county_census']]\n",
    "print((df['county_vaccine']==df['county_election']).mean())\n",
    "print((df['county_election']==df['county_checkpoint']).mean())\n",
    "print((df['county_checkpoint']==df['county_svi']).mean())\n",
    "print((df['county_svi']==df['county_census']).mean())"
   ]
  },
  {
   "cell_type": "code",
   "execution_count": 18,
   "id": "85959621",
   "metadata": {},
   "outputs": [],
   "source": [
    "#print(difference(df_county_list,svi_county_list))\n",
    "#print(difference(df_county_list,vaccine_county_list))\n",
    "#print(difference(df_county_list,election_county_list))\n",
    "#print(difference(df_county_list,census_county_list))"
   ]
  },
  {
   "cell_type": "code",
   "execution_count": 19,
   "id": "5db5b2cf",
   "metadata": {},
   "outputs": [],
   "source": [
    "#see differences in lists of county_states\n",
    "#merged df without svi\n",
    "df_nosvi_county_list = list(df_nosvi['county_vaccine'])\n",
    "\n",
    "def difference(lst):\n",
    "    final_list = list(set(lst) - set(df_nosvi_county_list))\n",
    "    return final_list\n",
    "\n",
    "checkpoint_diff = difference(checkpoint_county_list)\n",
    "vaccine_diff = difference(vaccine_county_list)\n",
    "election_diff = difference(election_county_list)\n",
    "census_diff = difference(census_county_list)"
   ]
  },
  {
   "cell_type": "code",
   "execution_count": 20,
   "id": "686546df",
   "metadata": {},
   "outputs": [
    {
     "name": "stdout",
     "output_type": "stream",
     "text": [
      "df_nosvi checkpoint diff: 103\n",
      "df_nosvi vaccine diff: 54\n",
      "df_nosvi election diff: 1539\n",
      "df_nosvi svi census: 103\n"
     ]
    }
   ],
   "source": [
    "print(f'df_nosvi checkpoint diff: {len(checkpoint_diff)}')\n",
    "print(f'df_nosvi vaccine diff: {len(vaccine_diff)}')\n",
    "print(f'df_nosvi election diff: {len(election_diff)}')\n",
    "print(f'df_nosvi svi census: {len(census_diff)}')"
   ]
  },
  {
   "cell_type": "code",
   "execution_count": 21,
   "id": "62e99b35",
   "metadata": {},
   "outputs": [],
   "source": [
    "#add 49 empty entries to svi_diff and vaccine_diff so can add everything to a df\n",
    "#vacc_append = ['ZZZZ']*1485\n",
    "#check_census_append = ['ZZZZ']*1436\n",
    "#vaccine_diff = vaccine_diff+vacc_append\n",
    "#checkpoint_diff = checkpoint_diff+check_census_append\n",
    "#census_diff = census_diff+check_census_append"
   ]
  },
  {
   "cell_type": "code",
   "execution_count": 22,
   "id": "b4c2a56b",
   "metadata": {},
   "outputs": [],
   "source": [
    "#diffs_nosvi = pd.DataFrame()\n",
    "#diffs_nosvi['checkpoint_diff']=checkpoint_diff\n",
    "#diffs_nosvi['vaccine_diff']=vaccine_diff\n",
    "#diffs_nosvi['election_diff']=election_diff\n",
    "#diffs_nosvi['census_diff']=census_diff\n",
    "#diffs_nosvi.to_csv('./clean_data/diffs_nosvi.csv')"
   ]
  },
  {
   "cell_type": "code",
   "execution_count": 23,
   "id": "b6d2e037",
   "metadata": {},
   "outputs": [],
   "source": [
    "################### repeat with merged df including svi"
   ]
  },
  {
   "cell_type": "code",
   "execution_count": 24,
   "id": "d6e64a1d",
   "metadata": {
    "scrolled": true
   },
   "outputs": [],
   "source": [
    "#see differences in lists of county_states\n",
    "#merged df with svi\n",
    "df_county_list = list(df['county_vaccine'])\n",
    "\n",
    "def difference(lst):\n",
    "    final_list = list(set(lst) - set(df_county_list))\n",
    "    return final_list\n",
    "\n",
    "svi_diff = difference(svi_county_list)\n",
    "checkpoint_diff = difference(checkpoint_county_list)\n",
    "vaccine_diff = difference(vaccine_county_list)\n",
    "election_diff = difference(election_county_list)\n",
    "census_diff = difference(census_county_list)"
   ]
  },
  {
   "cell_type": "code",
   "execution_count": 25,
   "id": "3fac3f92",
   "metadata": {},
   "outputs": [
    {
     "name": "stdout",
     "output_type": "stream",
     "text": [
      "df svi diff: 54\n",
      "df checkpoint diff: 103\n",
      "df vaccine diff: 54\n",
      "df election diff: 1539\n",
      "df census diff: 103\n"
     ]
    }
   ],
   "source": [
    "print(f'df svi diff: {len(svi_diff)}')\n",
    "print(f'df checkpoint diff: {len(checkpoint_diff)}')\n",
    "print(f'df vaccine diff: {len(vaccine_diff)}')\n",
    "print(f'df election diff: {len(election_diff)}')\n",
    "print(f'df census diff: {len(census_diff)}')"
   ]
  },
  {
   "cell_type": "code",
   "execution_count": 26,
   "id": "7b05bf1c",
   "metadata": {},
   "outputs": [],
   "source": [
    "#add 49 empty entries to svi_diff and vaccine_diff so can add everything to a df\n",
    "vacc_svi_append = ['ZZZZ']*1485\n",
    "check_census_append = ['ZZZZ']*1436\n",
    "vaccine_diff = vaccine_diff+vacc_svi_append\n",
    "svi_diff = svi_diff+vacc_svi_append\n",
    "checkpoint_diff = checkpoint_diff+check_census_append\n",
    "census_diff = census_diff+check_census_append"
   ]
  },
  {
   "cell_type": "code",
   "execution_count": 27,
   "id": "f30ac35b",
   "metadata": {},
   "outputs": [],
   "source": [
    "diffs = pd.DataFrame()\n",
    "diffs['svi_diff ']=svi_diff\n",
    "diffs['checkpoint_diff']=checkpoint_diff\n",
    "diffs['vaccine_diff']=vaccine_diff\n",
    "diffs['election_diff']=election_diff\n",
    "diffs['census_diff']=census_diff\n",
    "diffs\n",
    "diffs.to_csv('./clean_data/diffs.csv')"
   ]
  },
  {
   "cell_type": "code",
   "execution_count": 21,
   "id": "d9a9fe4a",
   "metadata": {},
   "outputs": [],
   "source": [
    "#0 value counts above 1\n",
    "\n",
    "#df['County_State'].value_counts(ascending=False)\n",
    "#checkpoint['County_State'].value_counts(ascending=False)\n",
    "#svi['County_State'].value_counts(ascending=False)\n",
    "#vaccine['County_State'].value_counts(ascending=False)\n",
    "#election['County_State'].value_counts(ascending=False)\n",
    "#census['County_State'].value_counts(ascending=False)"
   ]
  }
 ],
 "metadata": {
  "kernelspec": {
   "display_name": "Python 3 (ipykernel)",
   "language": "python",
   "name": "python3"
  },
  "language_info": {
   "codemirror_mode": {
    "name": "ipython",
    "version": 3
   },
   "file_extension": ".py",
   "mimetype": "text/x-python",
   "name": "python",
   "nbconvert_exporter": "python",
   "pygments_lexer": "ipython3",
   "version": "3.9.7"
  }
 },
 "nbformat": 4,
 "nbformat_minor": 5
}
