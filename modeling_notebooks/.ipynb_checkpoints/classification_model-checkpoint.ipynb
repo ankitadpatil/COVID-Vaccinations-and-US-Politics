{
 "cells": [
  {
   "cell_type": "code",
   "execution_count": 1,
   "id": "ad578836-b25c-420f-80d0-de5b9dbd4e67",
   "metadata": {},
   "outputs": [],
   "source": [
    "import pandas as pd\n",
    "import numpy as np\n",
    "import seaborn as sns\n",
    "import matplotlib.pyplot as plt\n",
    "from sklearn.preprocessing import StandardScaler, PolynomialFeatures\n",
    "from sklearn.linear_model import LogisticRegression, RidgeClassifier\n",
    "from sklearn.model_selection import train_test_split, cross_val_score, GridSearchCV, RandomizedSearchCV\n",
    "from sklearn.metrics import confusion_matrix, plot_confusion_matrix, accuracy_score, recall_score, precision_score, f1_score\n",
    "from sklearn.ensemble import RandomForestClassifier\n",
    "from sklearn.neighbors import KNeighborsClassifier\n",
    "from sklearn.linear_model import LinearRegression, LassoCV\n",
    "from sklearn.ensemble import BaggingClassifier, StackingClassifier\n",
    "from sklearn.pipeline import make_pipeline\n",
    "\n",
    "pd.set_option('display.max_columns', 500)"
   ]
  },
  {
   "cell_type": "code",
   "execution_count": 2,
   "id": "d725ef71-0145-43be-ac8e-dfd48e12b535",
   "metadata": {},
   "outputs": [
    {
     "data": {
      "text/plain": [
       "(3138, 36)"
      ]
     },
     "execution_count": 2,
     "metadata": {},
     "output_type": "execute_result"
    }
   ],
   "source": [
    "df = pd.read_csv('../clean_data/final_data_formodeling.csv') \n",
    "df.shape"
   ]
  },
  {
   "cell_type": "code",
   "execution_count": 3,
   "id": "de00efdf-e23c-4815-887f-0ab8e7df3a02",
   "metadata": {},
   "outputs": [
    {
     "data": {
      "text/plain": [
       "Unnamed: 0                               0\n",
       "County_State                             0\n",
       "Pct_Hesitant_Feb22                       0\n",
       "Pct_Somewhat_Hesitant_Feb22              0\n",
       "Pct_Highly_Hesitant_Feb22                0\n",
       "Pct_Uninsured                            0\n",
       "SVI_Socio                                0\n",
       "SVI_HHDisab                              0\n",
       "SVI_Minority                             0\n",
       "SVI_HousingTransp                        0\n",
       "SVI_Overall                              0\n",
       "Dose1_Pop_Pct_030121                     0\n",
       "Series_Complete_Pop_Pct_030121           0\n",
       "Dose1_Pop_Pct_090121                     0\n",
       "Series_Complete_Pop_Pct_090121           0\n",
       "Dose1_Pop_Pct_030122                     0\n",
       "Series_Complete_Pop_Pct_030122           0\n",
       "Booster_Doses_Vax_Pct_030122             0\n",
       "SVI_Ctgy                                 0\n",
       "Metro_Status                             0\n",
       "Census2019                               0\n",
       "Census2019_65PlusPop                     0\n",
       "Census2019_18to64Pop                     0\n",
       "State                                    0\n",
       "Candidate_Won                            0\n",
       "Pct_Trump                                0\n",
       "Pct_Biden                                0\n",
       "Hesitant_nzip                            0\n",
       "Somewhat_Hesitant_nzip                   0\n",
       "Highly_Hesitant_nzip                     0\n",
       "Census2019_Pct_65Plus                    0\n",
       "Missing_March21                          0\n",
       "Missing_Sept21                           0\n",
       "Missing_March22                          0\n",
       "Dose1_Pop_Pct_090121_impute              0\n",
       "Series_Complete_Pop_Pct_090121_impute    0\n",
       "dtype: int64"
      ]
     },
     "execution_count": 3,
     "metadata": {},
     "output_type": "execute_result"
    }
   ],
   "source": [
    "df.isnull().sum()"
   ]
  },
  {
   "cell_type": "code",
   "execution_count": 4,
   "id": "cbe8ae7e-28f3-44e9-985f-7214bd2c1f7d",
   "metadata": {},
   "outputs": [
    {
     "data": {
      "text/plain": [
       "Unnamed: 0                               0\n",
       "County_State                             0\n",
       "Pct_Hesitant_Feb22                       0\n",
       "Pct_Somewhat_Hesitant_Feb22              0\n",
       "Pct_Highly_Hesitant_Feb22                0\n",
       "Pct_Uninsured                            0\n",
       "SVI_Socio                                0\n",
       "SVI_HHDisab                              0\n",
       "SVI_Minority                             0\n",
       "SVI_HousingTransp                        0\n",
       "SVI_Overall                              0\n",
       "Dose1_Pop_Pct_030121                     0\n",
       "Series_Complete_Pop_Pct_030121           0\n",
       "Dose1_Pop_Pct_090121                     0\n",
       "Series_Complete_Pop_Pct_090121           0\n",
       "Dose1_Pop_Pct_030122                     0\n",
       "Series_Complete_Pop_Pct_030122           0\n",
       "Booster_Doses_Vax_Pct_030122             0\n",
       "SVI_Ctgy                                 0\n",
       "Metro_Status                             0\n",
       "Census2019                               0\n",
       "Census2019_65PlusPop                     0\n",
       "Census2019_18to64Pop                     0\n",
       "State                                    0\n",
       "Candidate_Won                            0\n",
       "Pct_Trump                                0\n",
       "Pct_Biden                                0\n",
       "Hesitant_nzip                            0\n",
       "Somewhat_Hesitant_nzip                   0\n",
       "Highly_Hesitant_nzip                     0\n",
       "Census2019_Pct_65Plus                    0\n",
       "Missing_March21                          0\n",
       "Missing_Sept21                           0\n",
       "Missing_March22                          0\n",
       "Dose1_Pop_Pct_090121_impute              0\n",
       "Series_Complete_Pop_Pct_090121_impute    0\n",
       "dtype: int64"
      ]
     },
     "execution_count": 4,
     "metadata": {},
     "output_type": "execute_result"
    }
   ],
   "source": [
    "# Check for nulls\n",
    "df.isnull().sum()"
   ]
  },
  {
   "cell_type": "code",
   "execution_count": 5,
   "id": "6cb40f48-950b-41ef-8a65-47e086cca3f0",
   "metadata": {},
   "outputs": [
    {
     "data": {
      "text/plain": [
       "Unnamed: 0                                 int64\n",
       "County_State                              object\n",
       "Pct_Hesitant_Feb22                       float64\n",
       "Pct_Somewhat_Hesitant_Feb22              float64\n",
       "Pct_Highly_Hesitant_Feb22                float64\n",
       "Pct_Uninsured                            float64\n",
       "SVI_Socio                                float64\n",
       "SVI_HHDisab                              float64\n",
       "SVI_Minority                             float64\n",
       "SVI_HousingTransp                        float64\n",
       "SVI_Overall                              float64\n",
       "Dose1_Pop_Pct_030121                     float64\n",
       "Series_Complete_Pop_Pct_030121           float64\n",
       "Dose1_Pop_Pct_090121                     float64\n",
       "Series_Complete_Pop_Pct_090121           float64\n",
       "Dose1_Pop_Pct_030122                     float64\n",
       "Series_Complete_Pop_Pct_030122           float64\n",
       "Booster_Doses_Vax_Pct_030122             float64\n",
       "SVI_Ctgy                                 float64\n",
       "Metro_Status                             float64\n",
       "Census2019                               float64\n",
       "Census2019_65PlusPop                     float64\n",
       "Census2019_18to64Pop                     float64\n",
       "State                                     object\n",
       "Candidate_Won                            float64\n",
       "Pct_Trump                                float64\n",
       "Pct_Biden                                float64\n",
       "Hesitant_nzip                            float64\n",
       "Somewhat_Hesitant_nzip                   float64\n",
       "Highly_Hesitant_nzip                     float64\n",
       "Census2019_Pct_65Plus                    float64\n",
       "Missing_March21                            int64\n",
       "Missing_Sept21                             int64\n",
       "Missing_March22                            int64\n",
       "Dose1_Pop_Pct_090121_impute              float64\n",
       "Series_Complete_Pop_Pct_090121_impute    float64\n",
       "dtype: object"
      ]
     },
     "execution_count": 5,
     "metadata": {},
     "output_type": "execute_result"
    }
   ],
   "source": [
    "df.dtypes"
   ]
  },
  {
   "cell_type": "markdown",
   "id": "3176d6b4-709a-4365-86d4-ca78063f9c2b",
   "metadata": {},
   "source": [
    "\n",
    "### Logistic Regression using only covid-relevant stats, to predict `candidate_won`."
   ]
  },
  {
   "cell_type": "markdown",
   "id": "2250f9f0-1ae6-48bc-8988-ddebc3746424",
   "metadata": {},
   "source": [
    "#### Baseline Model predicts 1.0 (Trump) wins each time and is 83.1% accurate"
   ]
  },
  {
   "cell_type": "code",
   "execution_count": 6,
   "id": "6222521f-a53e-4747-a9f2-725c48714274",
   "metadata": {},
   "outputs": [
    {
     "data": {
      "text/plain": [
       "1.0    0.831103\n",
       "0.0    0.168897\n",
       "Name: Candidate_Won, dtype: float64"
      ]
     },
     "execution_count": 6,
     "metadata": {},
     "output_type": "execute_result"
    }
   ],
   "source": [
    "df['Candidate_Won'].value_counts(normalize = True)"
   ]
  },
  {
   "cell_type": "code",
   "execution_count": 7,
   "id": "3395bdbb-b43c-4fb5-83ae-485dafcf16e0",
   "metadata": {},
   "outputs": [],
   "source": [
    "# Set X and y\n",
    "X = df[['Pct_Hesitant_Feb22', 'Pct_Somewhat_Hesitant_Feb22', 'Pct_Highly_Hesitant_Feb22', \n",
    "        'Dose1_Pop_Pct_030121', 'Dose1_Pop_Pct_030122', 'Dose1_Pop_Pct_090121_impute',\n",
    "        'Series_Complete_Pop_Pct_030121', 'Series_Complete_Pop_Pct_090121', 'Series_Complete_Pop_Pct_030122',\n",
    "        'Booster_Doses_Vax_Pct_030122', 'Census2019_Pct_65Plus', 'SVI_Ctgy']]\n",
    "y = df['Candidate_Won']\n",
    "\n",
    "# split data into training data and testing data\n",
    "X_train, X_test, y_train, y_test = train_test_split(X, y, random_state = 33)"
   ]
  },
  {
   "cell_type": "code",
   "execution_count": 8,
   "id": "14d069e1-26a1-44ab-a16d-d28f99aa6b12",
   "metadata": {},
   "outputs": [
    {
     "data": {
      "text/html": [
       "<div>\n",
       "<style scoped>\n",
       "    .dataframe tbody tr th:only-of-type {\n",
       "        vertical-align: middle;\n",
       "    }\n",
       "\n",
       "    .dataframe tbody tr th {\n",
       "        vertical-align: top;\n",
       "    }\n",
       "\n",
       "    .dataframe thead th {\n",
       "        text-align: right;\n",
       "    }\n",
       "</style>\n",
       "<table border=\"1\" class=\"dataframe\">\n",
       "  <thead>\n",
       "    <tr style=\"text-align: right;\">\n",
       "      <th></th>\n",
       "      <th>Pct_Hesitant_Feb22</th>\n",
       "      <th>Pct_Somewhat_Hesitant_Feb22</th>\n",
       "      <th>Pct_Highly_Hesitant_Feb22</th>\n",
       "      <th>Dose1_Pop_Pct_030121</th>\n",
       "      <th>Dose1_Pop_Pct_030122</th>\n",
       "      <th>Dose1_Pop_Pct_090121_impute</th>\n",
       "      <th>Series_Complete_Pop_Pct_030121</th>\n",
       "      <th>Series_Complete_Pop_Pct_090121</th>\n",
       "      <th>Series_Complete_Pop_Pct_030122</th>\n",
       "      <th>Booster_Doses_Vax_Pct_030122</th>\n",
       "      <th>Census2019_Pct_65Plus</th>\n",
       "      <th>SVI_Ctgy</th>\n",
       "    </tr>\n",
       "  </thead>\n",
       "  <tbody>\n",
       "    <tr>\n",
       "      <th>0</th>\n",
       "      <td>0.293</td>\n",
       "      <td>0.108</td>\n",
       "      <td>0.185</td>\n",
       "      <td>16.2</td>\n",
       "      <td>44.5</td>\n",
       "      <td>36.8</td>\n",
       "      <td>10.2</td>\n",
       "      <td>32.5</td>\n",
       "      <td>39.7</td>\n",
       "      <td>43.9</td>\n",
       "      <td>0.223550</td>\n",
       "      <td>4.0</td>\n",
       "    </tr>\n",
       "    <tr>\n",
       "      <th>1</th>\n",
       "      <td>0.290</td>\n",
       "      <td>0.083</td>\n",
       "      <td>0.207</td>\n",
       "      <td>13.1</td>\n",
       "      <td>58.6</td>\n",
       "      <td>48.6</td>\n",
       "      <td>6.6</td>\n",
       "      <td>39.4</td>\n",
       "      <td>52.3</td>\n",
       "      <td>34.1</td>\n",
       "      <td>0.157885</td>\n",
       "      <td>4.0</td>\n",
       "    </tr>\n",
       "    <tr>\n",
       "      <th>2</th>\n",
       "      <td>0.214</td>\n",
       "      <td>0.087</td>\n",
       "      <td>0.126</td>\n",
       "      <td>20.7</td>\n",
       "      <td>81.4</td>\n",
       "      <td>61.4</td>\n",
       "      <td>10.4</td>\n",
       "      <td>53.5</td>\n",
       "      <td>71.8</td>\n",
       "      <td>42.1</td>\n",
       "      <td>0.245513</td>\n",
       "      <td>4.0</td>\n",
       "    </tr>\n",
       "  </tbody>\n",
       "</table>\n",
       "</div>"
      ],
      "text/plain": [
       "   Pct_Hesitant_Feb22  Pct_Somewhat_Hesitant_Feb22  Pct_Highly_Hesitant_Feb22  \\\n",
       "0               0.293                        0.108                      0.185   \n",
       "1               0.290                        0.083                      0.207   \n",
       "2               0.214                        0.087                      0.126   \n",
       "\n",
       "   Dose1_Pop_Pct_030121  Dose1_Pop_Pct_030122  Dose1_Pop_Pct_090121_impute  \\\n",
       "0                  16.2                  44.5                         36.8   \n",
       "1                  13.1                  58.6                         48.6   \n",
       "2                  20.7                  81.4                         61.4   \n",
       "\n",
       "   Series_Complete_Pop_Pct_030121  Series_Complete_Pop_Pct_090121  \\\n",
       "0                            10.2                            32.5   \n",
       "1                             6.6                            39.4   \n",
       "2                            10.4                            53.5   \n",
       "\n",
       "   Series_Complete_Pop_Pct_030122  Booster_Doses_Vax_Pct_030122  \\\n",
       "0                            39.7                          43.9   \n",
       "1                            52.3                          34.1   \n",
       "2                            71.8                          42.1   \n",
       "\n",
       "   Census2019_Pct_65Plus  SVI_Ctgy  \n",
       "0               0.223550       4.0  \n",
       "1               0.157885       4.0  \n",
       "2               0.245513       4.0  "
      ]
     },
     "execution_count": 8,
     "metadata": {},
     "output_type": "execute_result"
    }
   ],
   "source": [
    "X.head(3)"
   ]
  },
  {
   "cell_type": "code",
   "execution_count": 9,
   "id": "e874fd83-7738-4959-ac05-0530e21e5441",
   "metadata": {},
   "outputs": [
    {
     "data": {
      "text/plain": [
       "LogisticRegression(max_iter=999)"
      ]
     },
     "execution_count": 9,
     "metadata": {},
     "output_type": "execute_result"
    }
   ],
   "source": [
    "logreg = LogisticRegression(max_iter= 999)\n",
    "logreg.fit(X_train, y_train)"
   ]
  },
  {
   "cell_type": "code",
   "execution_count": 10,
   "id": "932f9cf5-8c43-41b1-946c-a2b622231a1f",
   "metadata": {},
   "outputs": [
    {
     "name": "stdout",
     "output_type": "stream",
     "text": [
      "logreg train score is 0.894177645558861\n",
      "logreg test score is 0.8955414012738854\n",
      "logreg cross val score mean is 0.8882215295658851\n"
     ]
    }
   ],
   "source": [
    "train_score = logreg.score(X_train, y_train) \n",
    "test_score = logreg.score(X_test, y_test) \n",
    "crossvalscore = cross_val_score(logreg, X_train, y_train).mean() \n",
    "\n",
    "print(f'logreg train score is {train_score}')\n",
    "print(f'logreg test score is {test_score}')\n",
    "print(f'logreg cross val score mean is {crossvalscore}')"
   ]
  },
  {
   "cell_type": "code",
   "execution_count": 11,
   "id": "1748137b-8454-4449-a7df-441e7ee76d73",
   "metadata": {},
   "outputs": [
    {
     "data": {
      "image/png": "[encoded data removed]",
      "text/plain": [
       "<Figure size 432x288 with 2 Axes>"
      ]
     },
     "metadata": {
      "needs_background": "light"
     },
     "output_type": "display_data"
    }
   ],
   "source": [
    "preds_test = logreg.predict(X_test)\n",
    "\n",
    "confusion_matrix(y_test, # True values.\n",
    "                 preds_test)  # Predicted values.\n",
    "\n",
    "plot_confusion_matrix(logreg, X_test, y_test, cmap='Blues', \n",
    "                      values_format='d', display_labels=['Biden', 'Trump']);"
   ]
  },
  {
   "cell_type": "code",
   "execution_count": 12,
   "id": "8e2e79e2-2912-48d7-b91b-c8cad00c274f",
   "metadata": {},
   "outputs": [
    {
     "data": {
      "text/plain": [
       "0.8955414012738854"
      ]
     },
     "execution_count": 12,
     "metadata": {},
     "output_type": "execute_result"
    }
   ],
   "source": [
    "accuracy_score(y_test, preds_test)"
   ]
  },
  {
   "cell_type": "code",
   "execution_count": 13,
   "id": "7e186cc1-9b29-4b37-b294-2427d4c6614c",
   "metadata": {},
   "outputs": [
    {
     "data": {
      "text/plain": [
       "Index(['Pct_Hesitant_Feb22', 'Pct_Somewhat_Hesitant_Feb22',\n",
       "       'Pct_Highly_Hesitant_Feb22', 'Dose1_Pop_Pct_030121',\n",
       "       'Dose1_Pop_Pct_030122', 'Dose1_Pop_Pct_090121_impute',\n",
       "       'Series_Complete_Pop_Pct_030121', 'Series_Complete_Pop_Pct_090121',\n",
       "       'Series_Complete_Pop_Pct_030122', 'Booster_Doses_Vax_Pct_030122',\n",
       "       'Census2019_Pct_65Plus', 'SVI_Ctgy'],\n",
       "      dtype='object')"
      ]
     },
     "execution_count": 13,
     "metadata": {},
     "output_type": "execute_result"
    }
   ],
   "source": [
    "X.columns"
   ]
  },
  {
   "cell_type": "code",
   "execution_count": 14,
   "id": "f690729f-9ad8-46a1-b94b-bf9359b77709",
   "metadata": {},
   "outputs": [
    {
     "data": {
      "text/html": [
       "<div>\n",
       "<style scoped>\n",
       "    .dataframe tbody tr th:only-of-type {\n",
       "        vertical-align: middle;\n",
       "    }\n",
       "\n",
       "    .dataframe tbody tr th {\n",
       "        vertical-align: top;\n",
       "    }\n",
       "\n",
       "    .dataframe thead th {\n",
       "        text-align: right;\n",
       "    }\n",
       "</style>\n",
       "<table border=\"1\" class=\"dataframe\">\n",
       "  <thead>\n",
       "    <tr style=\"text-align: right;\">\n",
       "      <th></th>\n",
       "      <th>0</th>\n",
       "      <th>1</th>\n",
       "      <th>2</th>\n",
       "      <th>3</th>\n",
       "      <th>4</th>\n",
       "      <th>5</th>\n",
       "      <th>6</th>\n",
       "      <th>7</th>\n",
       "      <th>8</th>\n",
       "      <th>9</th>\n",
       "      <th>10</th>\n",
       "      <th>11</th>\n",
       "    </tr>\n",
       "  </thead>\n",
       "  <tbody>\n",
       "    <tr>\n",
       "      <th>0</th>\n",
       "      <td>7.108945</td>\n",
       "      <td>1.601807</td>\n",
       "      <td>5.51025</td>\n",
       "      <td>0.024353</td>\n",
       "      <td>-0.025519</td>\n",
       "      <td>0.014005</td>\n",
       "      <td>0.111837</td>\n",
       "      <td>-0.048881</td>\n",
       "      <td>-0.040739</td>\n",
       "      <td>0.025824</td>\n",
       "      <td>2.468441</td>\n",
       "      <td>-0.541711</td>\n",
       "    </tr>\n",
       "  </tbody>\n",
       "</table>\n",
       "</div>"
      ],
      "text/plain": [
       "         0         1        2         3         4         5         6   \\\n",
       "0  7.108945  1.601807  5.51025  0.024353 -0.025519  0.014005  0.111837   \n",
       "\n",
       "         7         8         9         10        11  \n",
       "0 -0.048881 -0.040739  0.025824  2.468441 -0.541711  "
      ]
     },
     "execution_count": 14,
     "metadata": {},
     "output_type": "execute_result"
    }
   ],
   "source": [
    "pd.DataFrame(logreg.coef_)"
   ]
  },
  {
   "cell_type": "markdown",
   "id": "cf08943a-11f0-4346-a7f2-821069941400",
   "metadata": {},
   "source": [
    "### Random Forest Classifier"
   ]
  },
  {
   "cell_type": "code",
   "execution_count": 15,
   "id": "6dd520e3-0d29-42d0-933a-e296c8ba0ea0",
   "metadata": {},
   "outputs": [
    {
     "name": "stdout",
     "output_type": "stream",
     "text": [
      "0.8988498893255634\n"
     ]
    },
    {
     "data": {
      "text/plain": [
       "{'max_depth': 5, 'min_samples_split': 3, 'n_estimators': 100}"
      ]
     },
     "execution_count": 15,
     "metadata": {},
     "output_type": "execute_result"
    }
   ],
   "source": [
    "rf = RandomForestClassifier()\n",
    "\n",
    "rf_params = {\n",
    "    'n_estimators': [20, 40, 50, 100],\n",
    "    'max_depth': [None, 1, 2, 3, 4, 5],\n",
    "    'min_samples_split': [2,3]\n",
    "    \n",
    "}\n",
    "gs = GridSearchCV(rf, param_grid=rf_params, cv=5)\n",
    "gs.fit(X_train, y_train)\n",
    "print(gs.best_score_)\n",
    "gs.best_params_"
   ]
  },
  {
   "cell_type": "markdown",
   "id": "bc87fb74-597b-4917-85e6-a1006b364bd6",
   "metadata": {},
   "source": [
    "89.9% accurate, 8% better than baseline model "
   ]
  },
  {
   "cell_type": "code",
   "execution_count": 16,
   "id": "e25b7c3b-a32e-4026-8219-fe71b607b4be",
   "metadata": {},
   "outputs": [
    {
     "name": "stdout",
     "output_type": "stream",
     "text": [
      "rf train score is 0.9162770930726731\n",
      "rf test score is 0.9070063694267516\n",
      "rf cross val score mean is 0.8962985047657768\n"
     ]
    }
   ],
   "source": [
    "train_score = gs.score(X_train, y_train) \n",
    "test_score = gs.score(X_test, y_test) \n",
    "crossvalscore= cross_val_score(gs, X_train, y_train).mean() \n",
    "\n",
    "print(f'rf train score is {train_score}')\n",
    "print(f'rf test score is {test_score}')\n",
    "print(f'rf cross val score mean is {crossvalscore}')"
   ]
  },
  {
   "cell_type": "markdown",
   "id": "c768a05f-8673-416f-ad5b-c7c1e192c1d1",
   "metadata": {},
   "source": [
    "Random Forest results: 5.6% more accurate than the baseline model. The accuracy score is not that different from the Logistic Regression model. Can we improve with Stacking with multiple classifier models?"
   ]
  },
  {
   "cell_type": "markdown",
   "id": "d33cae7b-b51a-4a9a-92e0-920a59aed70f",
   "metadata": {},
   "source": [
    "#### Stacking"
   ]
  },
  {
   "cell_type": "code",
   "execution_count": 17,
   "id": "0821de4c-2eb8-4860-8d4e-370712e6bbc0",
   "metadata": {},
   "outputs": [],
   "source": [
    "estimators = [('rf', RandomForestClassifier(n_estimators=10, random_state=42)),\n",
    "              ('knn', make_pipeline(StandardScaler(),KNeighborsClassifier())),\n",
    "             ('bag', BaggingClassifier()),\n",
    "             ('ridge', make_pipeline(StandardScaler(),RidgeClassifier()))]\n",
    "\n",
    "stack = StackingClassifier(estimators=estimators, final_estimator = LogisticRegression())"
   ]
  },
  {
   "cell_type": "code",
   "execution_count": 18,
   "id": "a4663552-5b2b-4e67-a6e4-64b4acf07961",
   "metadata": {},
   "outputs": [
    {
     "data": {
      "text/plain": [
       "(0.9524011899702507, 0.8980891719745223, 0.899703663549713)"
      ]
     },
     "execution_count": 18,
     "metadata": {},
     "output_type": "execute_result"
    }
   ],
   "source": [
    "stack.fit(X_train, y_train)\n",
    "stack.score(X_train, y_train), stack.score(X_test, y_test), cross_val_score(stack, X_train, y_train).mean()"
   ]
  },
  {
   "cell_type": "code",
   "execution_count": 19,
   "id": "9c3b5237-b9f3-4715-9a40-376a4171cf0f",
   "metadata": {},
   "outputs": [
    {
     "data": {
      "image/png": "[encoded data removed]",
      "text/plain": [
       "<Figure size 432x288 with 2 Axes>"
      ]
     },
     "metadata": {
      "needs_background": "light"
     },
     "output_type": "display_data"
    }
   ],
   "source": [
    "stack_preds_test = stack.predict(X_test)\n",
    "\n",
    "confusion_matrix(y_test, # True values.\n",
    "                 stack_preds_test)  # Predicted values.\n",
    "\n",
    "plot_confusion_matrix(stack, X_test, y_test, cmap='Blues', \n",
    "                      values_format='d', display_labels=['Biden', 'Trump'])\n",
    "plt.title('Confusion Matrix for Stacking Model')\n",
    "plt.savefig('../graphs/classification_conf_matrix.png');"
   ]
  },
  {
   "cell_type": "markdown",
   "id": "461b32c0-ed50-402f-bb13-a417e1d9c12d",
   "metadata": {},
   "source": [
    "Stacking results: The accusrcy is 90.3% which is some improvement over the previous models and 7.2% better than the baseline model. Would throwing more features in via polynomials improve the model?"
   ]
  },
  {
   "cell_type": "markdown",
   "id": "c165801a-588f-4f42-b0cf-ef727a53a9e4",
   "metadata": {},
   "source": [
    "#### Stacking, with polynomial features"
   ]
  },
  {
   "cell_type": "code",
   "execution_count": 20,
   "id": "e491e73c-f998-4f7b-8c2b-cac57b7afe2d",
   "metadata": {},
   "outputs": [],
   "source": [
    "poly = PolynomialFeatures(include_bias=False)\n",
    "X_poly = poly.fit_transform(X)\n",
    "X_train, X_test, y_train, y_test =train_test_split(X_poly, y, random_state = 33)"
   ]
  },
  {
   "cell_type": "code",
   "execution_count": 21,
   "id": "4e3b9c67-3a83-4855-9fbb-5ecf4ceb9168",
   "metadata": {},
   "outputs": [],
   "source": [
    "estimators = [('rf', RandomForestClassifier()),\n",
    "              ('knn', make_pipeline(StandardScaler(),KNeighborsClassifier())),\n",
    "             ('bag', BaggingClassifier()),\n",
    "             ('ridge', make_pipeline(StandardScaler(),RidgeClassifier()))]\n",
    "\n",
    "stack = StackingClassifier(estimators=estimators, final_estimator = LogisticRegression())"
   ]
  },
  {
   "cell_type": "code",
   "execution_count": 22,
   "id": "a595903e-c3dd-4556-8bf9-0d852171a64e",
   "metadata": {},
   "outputs": [
    {
     "data": {
      "text/plain": [
       "(0.9545261368465788, 0.9044585987261147, 0.8971531824547139)"
      ]
     },
     "execution_count": 22,
     "metadata": {},
     "output_type": "execute_result"
    }
   ],
   "source": [
    "stack.fit(X_train, y_train)\n",
    "stack.score(X_train, y_train), stack.score(X_test, y_test), cross_val_score(stack, X_train, y_train).mean()"
   ]
  },
  {
   "cell_type": "markdown",
   "id": "c74298f9-775f-4109-ab9b-91f275767a6f",
   "metadata": {},
   "source": [
    "Stacking w/ polynomials results: actually a slight dip in performance.  Stick with previous stacking model without polynomials."
   ]
  },
  {
   "cell_type": "markdown",
   "id": "f1fd2931-e146-4b17-b3ed-7d7506b869ce",
   "metadata": {},
   "source": [
    "#### Results: best classification model was using Stacking.  That model had 90.3% accuracy, about 7% better than the baseline model."
   ]
  }
 ],
 "metadata": {
  "kernelspec": {
   "display_name": "Python 3",
   "language": "python",
   "name": "python3"
  },
  "language_info": {
   "codemirror_mode": {
    "name": "ipython",
    "version": 3
   },
   "file_extension": ".py",
   "mimetype": "text/x-python",
   "name": "python",
   "nbconvert_exporter": "python",
   "pygments_lexer": "ipython3",
   "version": "3.8.8"
  }
 },
 "nbformat": 4,
 "nbformat_minor": 5
}
